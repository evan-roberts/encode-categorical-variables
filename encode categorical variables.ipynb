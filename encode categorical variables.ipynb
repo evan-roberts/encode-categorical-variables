{
 "cells": [
  {
   "cell_type": "markdown",
   "metadata": {},
   "source": [
    "# Encode categorical variables ready for machine learning\n",
    "\n",
    "**Transform categorical variables into numerical values ready to be used as inputs for a machine learning model.**\n",
    "\n",
    "When preparing data to be used in a machine learning model, there are many things we need to do. One of these things is to transform **categorical variables** into **numerical values**. This is because most models don't understand strings of categorical data.\n",
    "\n",
    "There are a few ways to go about doing this as you’ll see later on. But first, let’s take a look at an example with some sample data.\n",
    "\n",
    "First let’s import pandas, and the data."
   ]
  },
  {
   "cell_type": "code",
   "execution_count": 1,
   "metadata": {},
   "outputs": [
    {
     "data": {
      "text/html": [
       "<div>\n",
       "<style scoped>\n",
       "    .dataframe tbody tr th:only-of-type {\n",
       "        vertical-align: middle;\n",
       "    }\n",
       "\n",
       "    .dataframe tbody tr th {\n",
       "        vertical-align: top;\n",
       "    }\n",
       "\n",
       "    .dataframe thead th {\n",
       "        text-align: right;\n",
       "    }\n",
       "</style>\n",
       "<table border=\"1\" class=\"dataframe\">\n",
       "  <thead>\n",
       "    <tr style=\"text-align: right;\">\n",
       "      <th></th>\n",
       "      <th>income_usd</th>\n",
       "      <th>property_status</th>\n",
       "      <th>has_life_insurance</th>\n",
       "    </tr>\n",
       "  </thead>\n",
       "  <tbody>\n",
       "    <tr>\n",
       "      <th>0</th>\n",
       "      <td>31500</td>\n",
       "      <td>Owner with Mortgage</td>\n",
       "      <td>1</td>\n",
       "    </tr>\n",
       "    <tr>\n",
       "      <th>1</th>\n",
       "      <td>67500</td>\n",
       "      <td>Owner with Mortgage</td>\n",
       "      <td>1</td>\n",
       "    </tr>\n",
       "    <tr>\n",
       "      <th>2</th>\n",
       "      <td>77000</td>\n",
       "      <td>Owner Without Mortgage</td>\n",
       "      <td>0</td>\n",
       "    </tr>\n",
       "    <tr>\n",
       "      <th>3</th>\n",
       "      <td>56000</td>\n",
       "      <td>Owner Without Mortgage</td>\n",
       "      <td>1</td>\n",
       "    </tr>\n",
       "    <tr>\n",
       "      <th>4</th>\n",
       "      <td>26500</td>\n",
       "      <td>Renter</td>\n",
       "      <td>0</td>\n",
       "    </tr>\n",
       "    <tr>\n",
       "      <th>5</th>\n",
       "      <td>60500</td>\n",
       "      <td>Renter</td>\n",
       "      <td>0</td>\n",
       "    </tr>\n",
       "  </tbody>\n",
       "</table>\n",
       "</div>"
      ],
      "text/plain": [
       "   income_usd         property_status  has_life_insurance\n",
       "0       31500     Owner with Mortgage                   1\n",
       "1       67500     Owner with Mortgage                   1\n",
       "2       77000  Owner Without Mortgage                   0\n",
       "3       56000  Owner Without Mortgage                   1\n",
       "4       26500                  Renter                   0\n",
       "5       60500                  Renter                   0"
      ]
     },
     "execution_count": 1,
     "metadata": {},
     "output_type": "execute_result"
    }
   ],
   "source": [
    "import pandas as pd\n",
    "\n",
    "df = pd.read_csv(\"life_insurance_data.csv\")\n",
    "df"
   ]
  },
  {
   "cell_type": "markdown",
   "metadata": {},
   "source": [
    "As this is a small dataframe, it's easy to see that `property_status` has categorical data with three distinct values."
   ]
  },
  {
   "cell_type": "code",
   "execution_count": 2,
   "metadata": {},
   "outputs": [
    {
     "data": {
      "text/plain": [
       "Owner with Mortgage       2\n",
       "Owner Without Mortgage    2\n",
       "Renter                    2\n",
       "Name: property_status, dtype: int64"
      ]
     },
     "execution_count": 2,
     "metadata": {},
     "output_type": "execute_result"
    }
   ],
   "source": [
    "df['property_status'].value_counts()"
   ]
  },
  {
   "cell_type": "markdown",
   "metadata": {},
   "source": [
    "For larger dataframes, it can be useful to look at the `dtypes` attribute to see which variables are classified as `object`."
   ]
  },
  {
   "cell_type": "code",
   "execution_count": 3,
   "metadata": {},
   "outputs": [
    {
     "data": {
      "text/plain": [
       "income_usd             int64\n",
       "property_status       object\n",
       "has_life_insurance     int64\n",
       "dtype: object"
      ]
     },
     "execution_count": 3,
     "metadata": {},
     "output_type": "execute_result"
    }
   ],
   "source": [
    "df.dtypes"
   ]
  },
  {
   "cell_type": "markdown",
   "metadata": {},
   "source": [
    "For convenience, let’s create a new dataframe `df2` which only contains the `property_status` column:"
   ]
  },
  {
   "cell_type": "code",
   "execution_count": 4,
   "metadata": {},
   "outputs": [
    {
     "data": {
      "text/html": [
       "<div>\n",
       "<style scoped>\n",
       "    .dataframe tbody tr th:only-of-type {\n",
       "        vertical-align: middle;\n",
       "    }\n",
       "\n",
       "    .dataframe tbody tr th {\n",
       "        vertical-align: top;\n",
       "    }\n",
       "\n",
       "    .dataframe thead th {\n",
       "        text-align: right;\n",
       "    }\n",
       "</style>\n",
       "<table border=\"1\" class=\"dataframe\">\n",
       "  <thead>\n",
       "    <tr style=\"text-align: right;\">\n",
       "      <th></th>\n",
       "      <th>property_status</th>\n",
       "    </tr>\n",
       "  </thead>\n",
       "  <tbody>\n",
       "    <tr>\n",
       "      <th>0</th>\n",
       "      <td>Owner with Mortgage</td>\n",
       "    </tr>\n",
       "    <tr>\n",
       "      <th>1</th>\n",
       "      <td>Owner with Mortgage</td>\n",
       "    </tr>\n",
       "    <tr>\n",
       "      <th>2</th>\n",
       "      <td>Owner Without Mortgage</td>\n",
       "    </tr>\n",
       "    <tr>\n",
       "      <th>3</th>\n",
       "      <td>Owner Without Mortgage</td>\n",
       "    </tr>\n",
       "    <tr>\n",
       "      <th>4</th>\n",
       "      <td>Renter</td>\n",
       "    </tr>\n",
       "    <tr>\n",
       "      <th>5</th>\n",
       "      <td>Renter</td>\n",
       "    </tr>\n",
       "  </tbody>\n",
       "</table>\n",
       "</div>"
      ],
      "text/plain": [
       "          property_status\n",
       "0     Owner with Mortgage\n",
       "1     Owner with Mortgage\n",
       "2  Owner Without Mortgage\n",
       "3  Owner Without Mortgage\n",
       "4                  Renter\n",
       "5                  Renter"
      ]
     },
     "execution_count": 4,
     "metadata": {},
     "output_type": "execute_result"
    }
   ],
   "source": [
    "df2 = df[['property_status']].copy()\n",
    "df2"
   ]
  },
  {
   "cell_type": "markdown",
   "metadata": {},
   "source": [
    "**📌 Remember:**\n",
    "Use two square brackets above to keep `df2` as a dataframe. Otherwise, `df2` will become a series.\n",
    "\n",
    "## Label encoding\n",
    "\n",
    "One way to map these categories to numbers is to use the `map()` method:"
   ]
  },
  {
   "cell_type": "code",
   "execution_count": 5,
   "metadata": {},
   "outputs": [
    {
     "data": {
      "text/html": [
       "<div>\n",
       "<style scoped>\n",
       "    .dataframe tbody tr th:only-of-type {\n",
       "        vertical-align: middle;\n",
       "    }\n",
       "\n",
       "    .dataframe tbody tr th {\n",
       "        vertical-align: top;\n",
       "    }\n",
       "\n",
       "    .dataframe thead th {\n",
       "        text-align: right;\n",
       "    }\n",
       "</style>\n",
       "<table border=\"1\" class=\"dataframe\">\n",
       "  <thead>\n",
       "    <tr style=\"text-align: right;\">\n",
       "      <th></th>\n",
       "      <th>property_status</th>\n",
       "      <th>property_status_numeric</th>\n",
       "    </tr>\n",
       "  </thead>\n",
       "  <tbody>\n",
       "    <tr>\n",
       "      <th>0</th>\n",
       "      <td>Owner with Mortgage</td>\n",
       "      <td>0</td>\n",
       "    </tr>\n",
       "    <tr>\n",
       "      <th>1</th>\n",
       "      <td>Owner with Mortgage</td>\n",
       "      <td>0</td>\n",
       "    </tr>\n",
       "    <tr>\n",
       "      <th>2</th>\n",
       "      <td>Owner Without Mortgage</td>\n",
       "      <td>1</td>\n",
       "    </tr>\n",
       "    <tr>\n",
       "      <th>3</th>\n",
       "      <td>Owner Without Mortgage</td>\n",
       "      <td>1</td>\n",
       "    </tr>\n",
       "    <tr>\n",
       "      <th>4</th>\n",
       "      <td>Renter</td>\n",
       "      <td>2</td>\n",
       "    </tr>\n",
       "    <tr>\n",
       "      <th>5</th>\n",
       "      <td>Renter</td>\n",
       "      <td>2</td>\n",
       "    </tr>\n",
       "  </tbody>\n",
       "</table>\n",
       "</div>"
      ],
      "text/plain": [
       "          property_status  property_status_numeric\n",
       "0     Owner with Mortgage                        0\n",
       "1     Owner with Mortgage                        0\n",
       "2  Owner Without Mortgage                        1\n",
       "3  Owner Without Mortgage                        1\n",
       "4                  Renter                        2\n",
       "5                  Renter                        2"
      ]
     },
     "execution_count": 5,
     "metadata": {},
     "output_type": "execute_result"
    }
   ],
   "source": [
    "x = {'Owner with Mortgage':0, 'Owner Without Mortgage':1, 'Renter':2}\n",
    "df2['property_status_numeric'] = df2['property_status'].map(x)\n",
    "df2"
   ]
  },
  {
   "cell_type": "markdown",
   "metadata": {},
   "source": [
    "As you can see above, `property_status` has been mapped like this:\n",
    "- Owner with Mortgage ➡️ **0**\n",
    "- Owner without Mortgage ➡️ **1**\n",
    "- Renter ➡️ **2**\n",
    "\n",
    "This does what we need, but there's an easier way.\n",
    "\n",
    "You can get Pandas to do this automatically, which is very helpful if you have many different categories.\n",
    "\n",
    "First, we need to change the `property_status` column to a `category` data type."
   ]
  },
  {
   "cell_type": "code",
   "execution_count": 6,
   "metadata": {},
   "outputs": [
    {
     "data": {
      "text/plain": [
       "property_status            category\n",
       "property_status_numeric       int64\n",
       "dtype: object"
      ]
     },
     "execution_count": 6,
     "metadata": {},
     "output_type": "execute_result"
    }
   ],
   "source": [
    "df2['property_status'] = df2[\"property_status\"].astype('category')\n",
    "df2.dtypes"
   ]
  },
  {
   "cell_type": "markdown",
   "metadata": {},
   "source": [
    "Then apply the `cat.codes` attributes to a new numeric value column:"
   ]
  },
  {
   "cell_type": "code",
   "execution_count": 7,
   "metadata": {},
   "outputs": [
    {
     "data": {
      "text/html": [
       "<div>\n",
       "<style scoped>\n",
       "    .dataframe tbody tr th:only-of-type {\n",
       "        vertical-align: middle;\n",
       "    }\n",
       "\n",
       "    .dataframe tbody tr th {\n",
       "        vertical-align: top;\n",
       "    }\n",
       "\n",
       "    .dataframe thead th {\n",
       "        text-align: right;\n",
       "    }\n",
       "</style>\n",
       "<table border=\"1\" class=\"dataframe\">\n",
       "  <thead>\n",
       "    <tr style=\"text-align: right;\">\n",
       "      <th></th>\n",
       "      <th>property_status</th>\n",
       "      <th>property_status_numeric</th>\n",
       "      <th>property_status_numeric_2</th>\n",
       "    </tr>\n",
       "  </thead>\n",
       "  <tbody>\n",
       "    <tr>\n",
       "      <th>0</th>\n",
       "      <td>Owner with Mortgage</td>\n",
       "      <td>0</td>\n",
       "      <td>1</td>\n",
       "    </tr>\n",
       "    <tr>\n",
       "      <th>1</th>\n",
       "      <td>Owner with Mortgage</td>\n",
       "      <td>0</td>\n",
       "      <td>1</td>\n",
       "    </tr>\n",
       "    <tr>\n",
       "      <th>2</th>\n",
       "      <td>Owner Without Mortgage</td>\n",
       "      <td>1</td>\n",
       "      <td>0</td>\n",
       "    </tr>\n",
       "    <tr>\n",
       "      <th>3</th>\n",
       "      <td>Owner Without Mortgage</td>\n",
       "      <td>1</td>\n",
       "      <td>0</td>\n",
       "    </tr>\n",
       "    <tr>\n",
       "      <th>4</th>\n",
       "      <td>Renter</td>\n",
       "      <td>2</td>\n",
       "      <td>2</td>\n",
       "    </tr>\n",
       "    <tr>\n",
       "      <th>5</th>\n",
       "      <td>Renter</td>\n",
       "      <td>2</td>\n",
       "      <td>2</td>\n",
       "    </tr>\n",
       "  </tbody>\n",
       "</table>\n",
       "</div>"
      ],
      "text/plain": [
       "          property_status  property_status_numeric  property_status_numeric_2\n",
       "0     Owner with Mortgage                        0                          1\n",
       "1     Owner with Mortgage                        0                          1\n",
       "2  Owner Without Mortgage                        1                          0\n",
       "3  Owner Without Mortgage                        1                          0\n",
       "4                  Renter                        2                          2\n",
       "5                  Renter                        2                          2"
      ]
     },
     "execution_count": 7,
     "metadata": {},
     "output_type": "execute_result"
    }
   ],
   "source": [
    "df2[\"property_status_numeric_2\"] = df2[\"property_status\"].cat.codes\n",
    "df2"
   ]
  },
  {
   "cell_type": "markdown",
   "metadata": {},
   "source": [
    "What you can see above is that the encoding has been done in column `property_status_numeric_2`, but the mapping is different to the manual mapping we did in the previous step for `property_status_numeric`.\n",
    "\n",
    "If specifying the order in which categories are numbered is important in your mapping, then you can use `CategoricalDtype`:"
   ]
  },
  {
   "cell_type": "code",
   "execution_count": 8,
   "metadata": {},
   "outputs": [
    {
     "data": {
      "text/html": [
       "<div>\n",
       "<style scoped>\n",
       "    .dataframe tbody tr th:only-of-type {\n",
       "        vertical-align: middle;\n",
       "    }\n",
       "\n",
       "    .dataframe tbody tr th {\n",
       "        vertical-align: top;\n",
       "    }\n",
       "\n",
       "    .dataframe thead th {\n",
       "        text-align: right;\n",
       "    }\n",
       "</style>\n",
       "<table border=\"1\" class=\"dataframe\">\n",
       "  <thead>\n",
       "    <tr style=\"text-align: right;\">\n",
       "      <th></th>\n",
       "      <th>property_status</th>\n",
       "      <th>property_status_numeric</th>\n",
       "      <th>property_status_numeric_2</th>\n",
       "      <th>property_status_numeric_3</th>\n",
       "    </tr>\n",
       "  </thead>\n",
       "  <tbody>\n",
       "    <tr>\n",
       "      <th>0</th>\n",
       "      <td>Owner with Mortgage</td>\n",
       "      <td>0</td>\n",
       "      <td>1</td>\n",
       "      <td>0</td>\n",
       "    </tr>\n",
       "    <tr>\n",
       "      <th>1</th>\n",
       "      <td>Owner with Mortgage</td>\n",
       "      <td>0</td>\n",
       "      <td>1</td>\n",
       "      <td>0</td>\n",
       "    </tr>\n",
       "    <tr>\n",
       "      <th>2</th>\n",
       "      <td>Owner Without Mortgage</td>\n",
       "      <td>1</td>\n",
       "      <td>0</td>\n",
       "      <td>1</td>\n",
       "    </tr>\n",
       "    <tr>\n",
       "      <th>3</th>\n",
       "      <td>Owner Without Mortgage</td>\n",
       "      <td>1</td>\n",
       "      <td>0</td>\n",
       "      <td>1</td>\n",
       "    </tr>\n",
       "    <tr>\n",
       "      <th>4</th>\n",
       "      <td>Renter</td>\n",
       "      <td>2</td>\n",
       "      <td>2</td>\n",
       "      <td>2</td>\n",
       "    </tr>\n",
       "    <tr>\n",
       "      <th>5</th>\n",
       "      <td>Renter</td>\n",
       "      <td>2</td>\n",
       "      <td>2</td>\n",
       "      <td>2</td>\n",
       "    </tr>\n",
       "  </tbody>\n",
       "</table>\n",
       "</div>"
      ],
      "text/plain": [
       "          property_status  property_status_numeric  property_status_numeric_2  \\\n",
       "0     Owner with Mortgage                        0                          1   \n",
       "1     Owner with Mortgage                        0                          1   \n",
       "2  Owner Without Mortgage                        1                          0   \n",
       "3  Owner Without Mortgage                        1                          0   \n",
       "4                  Renter                        2                          2   \n",
       "5                  Renter                        2                          2   \n",
       "\n",
       "   property_status_numeric_3  \n",
       "0                          0  \n",
       "1                          0  \n",
       "2                          1  \n",
       "3                          1  \n",
       "4                          2  \n",
       "5                          2  "
      ]
     },
     "execution_count": 8,
     "metadata": {},
     "output_type": "execute_result"
    }
   ],
   "source": [
    "from pandas.api.types import CategoricalDtype\n",
    "cat_type = CategoricalDtype(categories=['Owner with Mortgage', 'Owner Without Mortgage', 'Renter'], ordered=True)\n",
    "df2['property_status'] = df2[\"property_status\"].astype(cat_type)\n",
    "df2[\"property_status_numeric_3\"] = df2[\"property_status\"].cat.codes\n",
    "df2"
   ]
  },
  {
   "cell_type": "markdown",
   "metadata": {},
   "source": [
    "Now that we’ve applied the ordering specified in the input `categories=` list, we get the same result as when using the mapping.\n",
    "\n",
    "One thing you may have noticed is that there’s **no natural way to order** the categories `Owner with Mortgage`, `Owner without Mortgage` and `Renter`.\n",
    "\n",
    "This could potentially be a problem for your model as it could place more weight on `Renter` just because it has a higher encoding.\n",
    "\n",
    "In some cases, label encoding makes sense as there’s a natural ranking. For example, education level: \n",
    "-\tHigh school graduate ➡️ **0**\n",
    "-\tBachelor’s degree ➡️ **1**\n",
    "-\tPostgraduate degree ➡️ **2**\n",
    "\n",
    "They follow a natural ranking, where a bachelor’s degree is more valuable than a high school diploma.\n",
    "\n",
    "Even though you’ve seen above how to classify `property_status` using label encoding, this isn’t the recommended approach when there isn't a natural ranking for the categories.\n",
    "\n",
    "## One-hot encoding\n",
    "\n",
    "One-hot encoding is just a fancy name for creating dummy variables which have values `0` or `1` based a categorical variable.\n",
    "\n",
    "In the example below, `animal` has been encoded to the new columns `animal_dog`, `animal_cat` and `animal_mouse`:"
   ]
  },
  {
   "cell_type": "markdown",
   "metadata": {},
   "source": [
    "| animal     | animal_dog | animal_cat | animal_mouse |\n",
    "|------------|:----------:|:----------:|:------------:|\n",
    "| **dog**    | 1          | 0          | 0            |\n",
    "| **cat**    | 0          | 1          | 0            |\n",
    "| **mouse**  | 0          | 0          | 1            |\n",
    "| **dog**    | 1          | 0          | 0            |\n",
    "| **mouse**  | 0          | 0          | 1            |\n",
    "\n",
    "\n",
    "Back to our `property_status` example. To do this in Pandas, we can use the `get_dummies()` method.\n",
    "\n",
    "`get_dummies()` drops the original classification column - `property_status` in our case. This is why I created `property_status_original` in the second line below."
   ]
  },
  {
   "cell_type": "code",
   "execution_count": 9,
   "metadata": {},
   "outputs": [
    {
     "data": {
      "text/html": [
       "<div>\n",
       "<style scoped>\n",
       "    .dataframe tbody tr th:only-of-type {\n",
       "        vertical-align: middle;\n",
       "    }\n",
       "\n",
       "    .dataframe tbody tr th {\n",
       "        vertical-align: top;\n",
       "    }\n",
       "\n",
       "    .dataframe thead th {\n",
       "        text-align: right;\n",
       "    }\n",
       "</style>\n",
       "<table border=\"1\" class=\"dataframe\">\n",
       "  <thead>\n",
       "    <tr style=\"text-align: right;\">\n",
       "      <th></th>\n",
       "      <th>property_status_original</th>\n",
       "      <th>property_status_Owner Without Mortgage</th>\n",
       "      <th>property_status_Owner with Mortgage</th>\n",
       "      <th>property_status_Renter</th>\n",
       "    </tr>\n",
       "  </thead>\n",
       "  <tbody>\n",
       "    <tr>\n",
       "      <th>0</th>\n",
       "      <td>Owner with Mortgage</td>\n",
       "      <td>0</td>\n",
       "      <td>1</td>\n",
       "      <td>0</td>\n",
       "    </tr>\n",
       "    <tr>\n",
       "      <th>1</th>\n",
       "      <td>Owner with Mortgage</td>\n",
       "      <td>0</td>\n",
       "      <td>1</td>\n",
       "      <td>0</td>\n",
       "    </tr>\n",
       "    <tr>\n",
       "      <th>2</th>\n",
       "      <td>Owner Without Mortgage</td>\n",
       "      <td>1</td>\n",
       "      <td>0</td>\n",
       "      <td>0</td>\n",
       "    </tr>\n",
       "    <tr>\n",
       "      <th>3</th>\n",
       "      <td>Owner Without Mortgage</td>\n",
       "      <td>1</td>\n",
       "      <td>0</td>\n",
       "      <td>0</td>\n",
       "    </tr>\n",
       "    <tr>\n",
       "      <th>4</th>\n",
       "      <td>Renter</td>\n",
       "      <td>0</td>\n",
       "      <td>0</td>\n",
       "      <td>1</td>\n",
       "    </tr>\n",
       "    <tr>\n",
       "      <th>5</th>\n",
       "      <td>Renter</td>\n",
       "      <td>0</td>\n",
       "      <td>0</td>\n",
       "      <td>1</td>\n",
       "    </tr>\n",
       "  </tbody>\n",
       "</table>\n",
       "</div>"
      ],
      "text/plain": [
       "  property_status_original  property_status_Owner Without Mortgage  \\\n",
       "0      Owner with Mortgage                                       0   \n",
       "1      Owner with Mortgage                                       0   \n",
       "2   Owner Without Mortgage                                       1   \n",
       "3   Owner Without Mortgage                                       1   \n",
       "4                   Renter                                       0   \n",
       "5                   Renter                                       0   \n",
       "\n",
       "   property_status_Owner with Mortgage  property_status_Renter  \n",
       "0                                    1                       0  \n",
       "1                                    1                       0  \n",
       "2                                    0                       0  \n",
       "3                                    0                       0  \n",
       "4                                    0                       1  \n",
       "5                                    0                       1  "
      ]
     },
     "execution_count": 9,
     "metadata": {},
     "output_type": "execute_result"
    }
   ],
   "source": [
    "df3 = df[['property_status']].copy()\n",
    "df3['property_status_original'] = df3['property_status']\n",
    "df3 = pd.get_dummies(df3, columns=['property_status'], prefix=['property_status'])\n",
    "df3"
   ]
  },
  {
   "cell_type": "markdown",
   "metadata": {},
   "source": [
    "As you can see above, the `property_status` categories have now been encoded into the three new columns.\n",
    "\n",
    "## Multicollinearity\n",
    "\n",
    "In the above example, a customer can't be both a renter and an owner.\n",
    "\n",
    "This means that there's some negative correlation between the new columns. For example, if we know that a customer rents, then we also know they're not an owner.\n",
    "\n",
    "This is called multicollinearity, and it should be avoided when modelling using generalized linear models which are fitted using least squares or maximum likelihood.\n",
    "\n",
    "One way around this is to drop one of the dummy variables - `property_status_Renter` in this case.\n",
    "\n",
    "So there we have it, that's how you can change a categorical variable into a numerical variable which can be used by machine learning models."
   ]
  }
 ],
 "metadata": {
  "interpreter": {
   "hash": "aee8b7b246df8f9039afb4144a1f6fd8d2ca17a180786b69acc140d282b71a49"
  },
  "kernelspec": {
   "display_name": "Python 3.10.1 64-bit",
   "language": "python",
   "name": "python3"
  },
  "language_info": {
   "codemirror_mode": {
    "name": "ipython",
    "version": 3
   },
   "file_extension": ".py",
   "mimetype": "text/x-python",
   "name": "python",
   "nbconvert_exporter": "python",
   "pygments_lexer": "ipython3",
   "version": "3.10.1"
  },
  "orig_nbformat": 4
 },
 "nbformat": 4,
 "nbformat_minor": 2
}
